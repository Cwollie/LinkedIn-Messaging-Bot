{
 "cells": [
  {
   "cell_type": "code",
   "execution_count": null,
   "id": "3d7509ce-9f97-44c8-9fc5-17d24c99e23d",
   "metadata": {
    "tags": []
   },
   "outputs": [],
   "source": [
    "import nbimporter\n",
    "import time\n",
    "import undetected_chromedriver as webdriver\n",
    "from selenium.webdriver.common.by import By\n",
    "from selenium.webdriver.common.action_chains import ActionChains\n",
    "import pandas as pd\n",
    "#startup\n",
    "username = \"\"\n",
    "password = \"\"\n",
    "\n",
    "linkedin = webdriver.Chrome()\n",
    "linkedin.get(\"https://www.linkedin.com/\")\n",
    "time.sleep(5)\n",
    "linkedin.find_element(By.XPATH, f'//input[@type=\"text\"]').send_keys(username)\n",
    "linkedin.find_element(By.XPATH, f'//input[@type=\"password\"]').send_keys(password)\n",
    "linkedin.find_element(By.XPATH, f'//button[@type=\"submit\"]').click()\n",
    "\n",
    "file_name = \"\"\n",
    "\n",
    "df = pd.read_excel(file_name, header=None)\n",
    "#df = df.drop(0)\n",
    "df = df.rename(columns=df.iloc[0])\n",
    "df = df.drop(0)\n",
    "df = df.drop_duplicates(subset=[\"Linkedin URL\"])\n",
    "\n",
    "df\n",
    "\n"
   ]
  },
  {
   "cell_type": "code",
   "execution_count": null,
   "id": "91c224bd-c40d-4925-a0a9-23c2e6dc83e6",
   "metadata": {},
   "outputs": [],
   "source": [
    "for i in df[\"Linkedin URL\"]:\n",
    "    ## go to profile\n",
    "    try:\n",
    "        linkedin.get(i)\n",
    "        time.sleep(5)\n",
    "        ## get message link\n",
    "        message_url = linkedin.find_element(By.XPATH, f'//a[@class=\"message-anywhere-button pvs-profile-actions__action artdeco-button \"]').get_attribute('href')\n",
    "        linkedin.get(message_url)\n",
    "\n",
    "\n",
    "        message = \"\"\n",
    "\n",
    "        time.sleep(3)\n",
    "        #send message\n",
    "        try:\n",
    "            linkedin.find_element(By.XPATH, f'//div[@aria-label=\"Write a message…\"]').send_keys(message)\n",
    "        except:\n",
    "            try:\n",
    "                linkedin.find_element(By.XPATH, f'//input[@placeholder=\"Subject (required)\"]').send_keys(\"Subject\")\n",
    "                time.sleep(3)\n",
    "                linkedin.find_element(By.XPATH, f'//textarea[@name=\"message\"]').send_keys(message)\n",
    "\n",
    "    \n",
    "        time.sleep(20)\n",
    "        #linkedin.find_element(By.XPATH, f'//button[@type=\"submit\"]').click()\n",
    "\n",
    "    except:\n",
    "        print(\"Error with: \", df[\"Name\"])\n",
    "        \n",
    "    time.sleep(500)"
   ]
  },
  {
   "cell_type": "code",
   "execution_count": null,
   "id": "48a530f8-4a31-4105-98bf-06bc41b48584",
   "metadata": {},
   "outputs": [],
   "source": []
  }
 ],
 "metadata": {
  "kernelspec": {
   "display_name": "Python 3 (ipykernel)",
   "language": "python",
   "name": "python3"
  },
  "language_info": {
   "codemirror_mode": {
    "name": "ipython",
    "version": 3
   },
   "file_extension": ".py",
   "mimetype": "text/x-python",
   "name": "python",
   "nbconvert_exporter": "python",
   "pygments_lexer": "ipython3",
   "version": "3.7.11"
  }
 },
 "nbformat": 4,
 "nbformat_minor": 5
}
